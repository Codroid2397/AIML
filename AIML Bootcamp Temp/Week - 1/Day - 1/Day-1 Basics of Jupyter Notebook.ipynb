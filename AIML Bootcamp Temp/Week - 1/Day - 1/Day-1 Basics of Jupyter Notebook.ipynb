{
 "cells": [
  {
   "cell_type": "markdown",
   "id": "add056a0-3e7e-4c83-b592-86790f9ccb40",
   "metadata": {},
   "source": [
    "# Basics of Jupyter Notebook"
   ]
  },
  {
   "cell_type": "markdown",
   "id": "d9dd9977-148f-4c97-848b-4ed7ec901427",
   "metadata": {},
   "source": [
    "## Agenda/Topics\n",
    "- Jupyter Notebook Overview\n",
    "- Adding Heading to Notebook"
   ]
  },
  {
   "cell_type": "markdown",
   "id": "75fcc412-aa9d-41c4-811c-18717c6dc614",
   "metadata": {},
   "source": [
    "### <font color='289C4E'>Table of contents<font><a class='anchor' id='top'></a>\n",
    "- [Section 1](#1)\n",
    "- [Section 2](#2)\n",
    "- [Section 3](#3)"
   ]
  },
  {
   "cell_type": "markdown",
   "id": "dab83dbd-1736-4787-bd04-66e8db27a593",
   "metadata": {},
   "source": [
    "<h1 align=\"center\"><font color='green'>Header 1</font></h1>\n",
    "<h2 align=\"center\"> <font color='gray'>Header 2</font></h2>\n",
    "<h3 align=\"center\"> <font color='blue'>Header 3</font></h3>"
   ]
  },
  {
   "cell_type": "markdown",
   "id": "111a69ce-83c3-431a-a547-863642bf8bfe",
   "metadata": {},
   "source": [
    "## Outcome\n",
    "- dafscs\n",
    "- safdvcas"
   ]
  },
  {
   "cell_type": "code",
   "execution_count": null,
   "id": "5e132e47-8a14-446e-ad24-8e5782fc6af7",
   "metadata": {},
   "outputs": [],
   "source": [
    "# Write down Aim as comment\n"
   ]
  },
  {
   "cell_type": "markdown",
   "id": "755fb395-e57b-4118-93a4-2a4f72fb268c",
   "metadata": {},
   "source": [
    "<div class=\"alert alert-block alert-info\">\n",
    "<b>Topic 1:</b> My Jupyter Notebook\n",
    "</div>"
   ]
  },
  {
   "cell_type": "markdown",
   "id": "002c31ee-96c6-40c6-a16f-2e24caf6eb71",
   "metadata": {},
   "source": [
    "https://www.kaggle.com/code/alejopaullier/make-your-notebooks-look-better#2.-Add-images-to-make-the-notebook-more-attractive--%E2%86%91"
   ]
  }
 ],
 "metadata": {
  "kernelspec": {
   "display_name": "Python 3 (ipykernel)",
   "language": "python",
   "name": "python3"
  },
  "language_info": {
   "codemirror_mode": {
    "name": "ipython",
    "version": 3
   },
   "file_extension": ".py",
   "mimetype": "text/x-python",
   "name": "python",
   "nbconvert_exporter": "python",
   "pygments_lexer": "ipython3",
   "version": "3.12.7"
  }
 },
 "nbformat": 4,
 "nbformat_minor": 5
}
